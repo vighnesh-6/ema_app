{
 "cells": [
  {
   "cell_type": "code",
   "execution_count": 14,
   "id": "2a596942-f5c6-4978-a0b9-3d5dbacd7762",
   "metadata": {},
   "outputs": [
    {
     "name": "stdout",
     "output_type": "stream",
     "text": [
      "100 <class 'str'>\n"
     ]
    }
   ],
   "source": [
    "#examples of explicit type casting \n",
    "\n",
    "#conver float to int \n",
    "#x = 3.5\n",
    "#y = int(x)\n",
    "#print(y)\n",
    "\n",
    "#conver int to float \n",
    "#x = 5 \n",
    "#y = float(x)\n",
    "#print(y)\n",
    "\n",
    "#convert num to string\n",
    "x = 100\n",
    "y = str(x)\n",
    "print(y, type(y))\n",
    "\n",
    "#convert string to int \n",
    "num_str = \"123\"\n",
    "num = int(num_str)\n",
    "print(num + 1\n",
    "\n",
    "#convert list to set\n",
    "lst = [1,2,3]\n",
    "s = set(lst)\n",
    "print(s)"
   ]
  },
  {
   "cell_type": "code",
   "execution_count": null,
   "id": "136bbc8a-2d1f-427b-8494-19568f8b4da9",
   "metadata": {},
   "outputs": [],
   "source": [
    "# basic operations on strings\n",
    "\n",
    "a = \"hii\"\n",
    "b = \"word\"\n",
    "\n",
    "# repitation \n",
    "print(a * 3)\n",
    "#length \n",
    "print(len(a))\n",
    "#indexing\n",
    "print(a[0])\n",
    "print(a[-1])\n",
    "#slicing\n",
    "print(a[1:4])"
   ]
  },
  {
   "cell_type": "code",
   "execution_count": 22,
   "id": "7ca2f256-7d12-4c72-b08e-2af60275a0db",
   "metadata": {},
   "outputs": [
    {
     "name": "stdout",
     "output_type": "stream",
     "text": [
      "e\n"
     ]
    }
   ],
   "source": [
    "a = \"heil\"\n",
    "print(a[1:2])"
   ]
  },
  {
   "cell_type": "code",
   "execution_count": null,
   "id": "848d38fe-1535-4b7c-921f-f456a6e0f4ac",
   "metadata": {},
   "outputs": [],
   "source": [
    "text = \"python programming\"\n",
    "\n",
    "print(text.upper())       # PYTHON PROGRAMMING\n",
    "print(text.lower())       # python programming\n",
    "print(text.title())       # Python Programming\n",
    "print(text.replace(\"python\", \"java\"))  # java programming\n",
    "print(text.count(\"p\"))    # 2\n",
    "print(text.find(\"pro\"))   # 7\n",
    "print(text.startswith(\"py\"))  # True\n",
    "print(text.endswith(\"ing\"))   # True\n",
    "print(text.split())      # ['python', 'programming']\n"
   ]
  },
  {
   "cell_type": "code",
   "execution_count": 24,
   "id": "de122ce2-09a2-4fa3-bf0d-50d85e530014",
   "metadata": {},
   "outputs": [
    {
     "name": "stdout",
     "output_type": "stream",
     "text": [
      "Vowels: 3\n"
     ]
    }
   ],
   "source": [
    "s = \"Python is Fun\"\n",
    "count = 0\n",
    "for char in s.lower():\n",
    "    if char in 'aeiou':\n",
    "        count += 1\n",
    "print(\"Vowels:\", count)  # Output: 3\n"
   ]
  },
  {
   "cell_type": "code",
   "execution_count": 28,
   "id": "dbd73afd-9fc0-417b-8225-42ce279bb6f7",
   "metadata": {},
   "outputs": [
    {
     "name": "stdout",
     "output_type": "stream",
     "text": [
      "vowels: 1\n"
     ]
    }
   ],
   "source": [
    "s = \"python\"\n",
    "count = 0 \n",
    "for char in s.lower():\n",
    "    if char in 'aeiou':\n",
    "        count+=1\n",
    "\n",
    "print(\"vowels:\",count)"
   ]
  },
  {
   "cell_type": "code",
   "execution_count": 30,
   "id": "3e411137-e6d1-498f-bce4-5757f815ed58",
   "metadata": {},
   "outputs": [
    {
     "name": "stdout",
     "output_type": "stream",
     "text": [
      "apple\n",
      "cherry\n",
      "['apple', 'mango', 'cherry']\n",
      "[20, 30, 40]\n",
      "[10, 20, 30]\n",
      "[10, 30, 50]\n",
      "apple\n",
      "mango\n",
      "cherry\n"
     ]
    },
    {
     "data": {
      "text/plain": [
       "60"
      ]
     },
     "execution_count": 30,
     "metadata": {},
     "output_type": "execute_result"
    }
   ],
   "source": [
    "#lists\n",
    "#accsessing lists \n",
    "fruits = [\"apple\", \"banana\", \"cherry\"]\n",
    "\n",
    "print(fruits[0])     # apple\n",
    "print(fruits[-1])    # cherry (last element)\n",
    "\n",
    "#modifying lists\n",
    "fruits[1] = \"mango\"\n",
    "print(fruits)  # ['apple', 'mango', 'cherry']\n",
    "\n",
    "#slicing\n",
    "numbers = [10, 20, 30, 40, 50]\n",
    "\n",
    "print(numbers[1:4])  # [20, 30, 40]\n",
    "print(numbers[:3])   # [10, 20, 30]\n",
    "print(numbers[::2])  # [10, 30, 50]\n",
    "\n",
    "#looping through lists \n",
    "for item in fruits:\n",
    "    print(item)\n",
    "\n",
    "#built in functions\n",
    "len(fruits)          # Length\n",
    "max([1, 2, 3])        # 3\n",
    "min([1, 2, 3])        # 1\n",
    "sum([10, 20, 30])     # 60\n"
   ]
  },
  {
   "cell_type": "code",
   "execution_count": 57,
   "id": "f0ecf3fc-34ae-4c78-9f4f-9010f25c0e65",
   "metadata": {},
   "outputs": [
    {
     "name": "stdout",
     "output_type": "stream",
     "text": [
      "evennumbers: 3\n",
      "[6, 5, 4, 3, 2, 1]\n",
      "[1, 2, 3, 4, 5, 6]\n",
      "1\n",
      "2\n",
      "3\n"
     ]
    }
   ],
   "source": [
    "# count even number in list \n",
    "\n",
    "lst=[1,2,3,4,5,6]\n",
    "count = 0\n",
    "for i in lst :\n",
    "    if i%2==0:\n",
    "      count += 1\n",
    "print(\"evennumbers:\",count)\n",
    "\n",
    "#to find max elements \n",
    "max(lst)\n",
    "\n",
    "#to sort a list in reverse order\n",
    "lst.sort(reverse=True)\n",
    "print(lst)\n",
    "\n",
    "#program to remove duplicates form lst\n",
    "lst=[1,2,2,3,4,4,5,5,6]\n",
    "unique = list(set(lst))\n",
    "print(unique)\n",
    "\n",
    "\n",
    "#Print all items, using a while loop to go through all the index numbers\n",
    "\n",
    "lst = [1,2,3]\n",
    "i = 0\n",
    "while i < len(lst):\n",
    "    print(lst[i])\n",
    "    i=i+1\n",
    "    "
   ]
  },
  {
   "cell_type": "code",
   "execution_count": 31,
   "id": "46885104-787f-4211-987c-41957673d60e",
   "metadata": {},
   "outputs": [
    {
     "name": "stdout",
     "output_type": "stream",
     "text": [
      "apple\n",
      "cherry\n",
      "(2, 3, 4)\n",
      "(5, 4, 3, 2, 1)\n",
      "1\n",
      "2\n",
      "3\n",
      "4\n",
      "5\n",
      "('apple', 'kiwi')\n",
      "banana\n",
      "apple\n",
      "cherry\n",
      "bun\n",
      "ink\n",
      "bun\n",
      "choco\n"
     ]
    }
   ],
   "source": [
    "#tuples\n",
    "#accessing tuples\n",
    "t = ('apple', 'banana', 'cherry')\n",
    "print(t[0])    # Output: apple\n",
    "print(t[-1])   # Output: cherry\n",
    "#tuple slicing \n",
    "t = (1, 2, 3, 4, 5)\n",
    "\n",
    "print(t[1:4])    # (2, 3, 4)\n",
    "print(t[::-1])   # (5, 4, 3, 2, 1)\n",
    "#looping \n",
    "for item in t:\n",
    "    print(item)\n",
    "\n",
    "#count(x) t.count(2)-1\n",
    "#index(x) returns first index of x t.index('banana')-1\n",
    "#unlike lists tuples doesnot support methods like append() , remove() , sort() , for that you have to change tuple into list and add elements ,remove or sort and then again change that list into tuple to get result\n",
    "\n",
    "#Convert the tuple into a list to be able to change it:\n",
    "x = (\"apple\",\"kaju\")\n",
    "y = list(x)\n",
    "y[1]=(\"kiwi\")\n",
    "x = tuple(y)\n",
    "print(x)\n",
    "\n",
    "# to add items \n",
    "x = (\"apple\",\"bun\",\"kaju\")\n",
    "y = list(x)\n",
    "y.append(\"kiss\")\n",
    "x = tuple(y)\n",
    "\n",
    "#to remove items\n",
    "x = (\"apple\",\"bun\",\"kaju\")\n",
    "y = list(x)\n",
    "y.remove(\"bun\")\n",
    "x = tuple(y)\n",
    "\n",
    "#unpacking a tuple\n",
    "t = (\"banana\",\"apple\",\"cherry\")\n",
    "\n",
    "(yellow,green,red)=t\n",
    "\n",
    "print(yellow)\n",
    "print(green)\n",
    "print(red)\n",
    "\n",
    "\n",
    "#fruits = (\"apple\", \"banana\", \"cherry\", \"strawberry\", \"raspberry\")\n",
    "#(green, yellow, *red) = fruits\n",
    "#print(green)\n",
    "#print(yellow)\n",
    "#print(red)\n",
    "\n",
    "#using while loop\n",
    "t = (\"bun\",\"ink\")\n",
    "i = 0 \n",
    "while i < len(t):\n",
    "    print(t[i])\n",
    "    i = i + 1\n",
    "\n",
    "#for loop\n",
    "t = (\"bun\",\"choco\")\n",
    "for i in  range  (len(t)):\n",
    "  print(t[i])"
   ]
  },
  {
   "cell_type": "code",
   "execution_count": 51,
   "id": "a92bda29-1246-456d-9255-182207264548",
   "metadata": {},
   "outputs": [
    {
     "name": "stdout",
     "output_type": "stream",
     "text": [
      "{1, 2, 3, 4}\n",
      "{1, 2, 3}\n",
      "{1, 2, 3, 4, 5, 6}\n",
      "{3, 4}\n",
      "{1, 2, 5, 6}\n",
      "{1, 2, 4}\n",
      "True\n",
      "True\n",
      "vowels in the string: {'u', 'o', 'i'}\n"
     ]
    }
   ],
   "source": [
    "#sets\n",
    "#it is unordered no definite order , unindexed cannot access elements by index ,no duplicates\n",
    "# mutable can add or remove elements but cannot change the elements \n",
    "# heterogwneous , it can contain different data types \n",
    "\n",
    "s = {1,2,3,4}\n",
    "print(s)\n",
    "\n",
    "#it removes duplicates automaticaaly\n",
    "s={1,2,2,2,3}\n",
    "print(s)\n",
    "\n",
    "# set operations \n",
    "a = {1, 2, 3, 4}\n",
    "b = {3, 4, 5, 6}\n",
    "\n",
    "#union (|) or a.union(b)\n",
    "print(a|b)\n",
    "#intersection a&b\n",
    "print(a & b)\n",
    "#symmetric diff\n",
    "print(a ^ b )\n",
    "\n",
    "#common methods \n",
    "#to add and remove \n",
    "s={1,2,3}\n",
    "s.add(4)\n",
    "s.remove(3)\n",
    "print(s)\n",
    "#use discard() no error if element is not present\n",
    "s={1,3,4,5}\n",
    "s.discard(10)\n",
    "#check subset/superset\n",
    "A = {1, 2}\n",
    "B = {1, 2, 3}\n",
    "print(A.issubset(B))   # True\n",
    "print(B.issuperset(A)) # True\n",
    "\n",
    "#create a set of vowels from a string\n",
    "\n",
    "text = \"python is fun\"\n",
    "\n",
    "#define vowels in set\n",
    "vowels = {'a','e','i','o','u'}\n",
    "\n",
    "#create an empty set to store vowels \n",
    "count = set()     \n",
    "\n",
    "#convert the string to lowercase by using .lower() if required\n",
    "for char in text :\n",
    "    if char in vowels:\n",
    "        count.add(char)   #if the charcter is a vowel we add in the set by using add()\n",
    "\n",
    "print(\"vowels in the string:\",count)\n",
    "    \n"
   ]
  },
  {
   "cell_type": "code",
   "execution_count": 71,
   "id": "d14cec36-b533-4d35-ac97-9217cce8cd72",
   "metadata": {},
   "outputs": [
    {
     "name": "stdout",
     "output_type": "stream",
     "text": [
      "dod\n",
      "20\n",
      "{'b': 1, 'a': 3, 'n': 2}\n"
     ]
    }
   ],
   "source": [
    "#dictionary each key is unique that is maped to a value\n",
    "#unordered no index based access , mutable can add ,update or delete items ( changeable)\n",
    "#key - value pairs ( each element is a pair of something )\n",
    "#keys must be unique  but values can repeat \n",
    "#keys cannot be changed immutable\n",
    "\n",
    "dict = { \"name\":\"dod\",\"age\": 20,\"city\":\"us\"}\n",
    "#name,age,city are keys and dod ,20 ,us are the values\n",
    "\n",
    "#accessing the values\n",
    "print(dict[\"name\"])\n",
    "print(dict.get(\"age\")) #use .get()\n",
    "\n",
    "dict[\"age\"]=21 #updates the values\n",
    "dict[\"gender\"]=\"female\" #add up the new key value pairs\n",
    "\n",
    "#removing elements \n",
    "del dict[\"city\"]         # Deletes key \"city\"\n",
    "dict.pop(\"age\")          # Removes \"age\"\n",
    "dict.clear()             # Removes all items\n",
    "\n",
    "#counting frequency of characters of string\n",
    "text = \"banana\"\n",
    "freq = {}\n",
    "\n",
    "for char in text: #looping through each character in string \n",
    "    freq[char] = freq.get(char, 0) + 1 #ounting characters using dict. get(key)\n",
    "\n",
    "#freq.get(char,0)= checks wheter character exists or not, if it does it gets its values , if not it returns zero , then it adds 1 to the current count to update the dictionary \n",
    "\n",
    "print(freq)  # {'b': 1, 'a': 3, 'n': 2}\n",
    "\n"
   ]
  },
  {
   "cell_type": "code",
   "execution_count": 73,
   "id": "e1afc644-67e8-4e25-92b4-325c556dc6f0",
   "metadata": {},
   "outputs": [
    {
     "name": "stdout",
     "output_type": "stream",
     "text": [
      "Above ten\n",
      "and also above 20!\n"
     ]
    }
   ],
   "source": [
    "#if else\n",
    "#not keyword is a logical operator that reverses the result of the conditional statement \n",
    "\n",
    "\n",
    "#You can have if statements inside if statements, this is called nested if statements.\n",
    "x = 41\n",
    "\n",
    "if x > 10:\n",
    "  print(\"Above ten\")\n",
    "  if x > 20:\n",
    "    print(\"and also above 20!\")\n",
    "  else:\n",
    "    print(\"but not above 20.\")\n",
    "\n",
    "\n",
    "#if else ladder \n",
    "marks = int(input(\"Enter your marks: \"))\n",
    "if marks >= 90:\n",
    "    print(\"Grade: A\")\n",
    "elif marks >= 75:\n",
    "    print(\"Grade: B\")\n",
    "elif marks >= 60:\n",
    "    print(\"Grade: C\")\n",
    "else:\n",
    "    print(\"Grade: D\")\n"
   ]
  },
  {
   "cell_type": "code",
   "execution_count": null,
   "id": "ab32bca3-4617-412a-b8f8-3893f60be8de",
   "metadata": {},
   "outputs": [],
   "source": []
  }
 ],
 "metadata": {
  "kernelspec": {
   "display_name": "Python [conda env:base] *",
   "language": "python",
   "name": "conda-base-py"
  },
  "language_info": {
   "codemirror_mode": {
    "name": "ipython",
    "version": 3
   },
   "file_extension": ".py",
   "mimetype": "text/x-python",
   "name": "python",
   "nbconvert_exporter": "python",
   "pygments_lexer": "ipython3",
   "version": "3.12.7"
  }
 },
 "nbformat": 4,
 "nbformat_minor": 5
}
